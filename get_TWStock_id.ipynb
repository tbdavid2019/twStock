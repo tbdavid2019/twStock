{
 "cells": [
  {
   "cell_type": "code",
   "execution_count": 7,
   "metadata": {},
   "outputs": [
    {
     "name": "stderr",
     "output_type": "stream",
     "text": [
      "/var/folders/yn/hmlh5xbj2_v9k4x75hntmgqw0000gn/T/ipykernel_11976/1442526003.py:6: FutureWarning: Passing literal html to 'read_html' is deprecated and will be removed in a future version. To read from a literal string, wrap it in a 'StringIO' object.\n",
      "  df = pd.read_html(res.text)[0]\n"
     ]
    },
    {
     "name": "stdout",
     "output_type": "stream",
     "text": [
      "已成功將過濾後的資料保存為 stock_id.csv\n"
     ]
    }
   ],
   "source": [
    "import requests\n",
    "import pandas as pd\n",
    "\n",
    "# 取得資料\n",
    "res = requests.get(\"https://isin.twse.com.tw/isin/C_public.jsp?strMode=2\")\n",
    "df = pd.read_html(res.text)[0]\n",
    "\n",
    "# 設定 column 名稱\n",
    "df.columns = df.iloc[0]\n",
    "df = df.iloc[1:]\n",
    "\n",
    "# 移除row與column，超過三個NaN則移除\n",
    "df = df.dropna(thresh=3, axis=0).dropna(thresh=3, axis=1)\n",
    "\n",
    "# 只提取「有價證券代號及名稱」這一列，並將代號和名稱分開\n",
    "df[['stock_id', 'name']] = df['有價證券代號及名稱'].str.split('　', expand=True)\n",
    "\n",
    "# 過濾出stock_id只包含數字的行\n",
    "df = df[df['stock_id'].str.isdigit()]\n",
    "\n",
    "# 保存結果為 CSV 檔案，不包含標頭\n",
    "df[['stock_id', 'name']].to_csv('stock_id.csv', index=False, header=True, encoding='utf-8-sig')\n",
    "\n",
    "print(\"已成功將過濾後的資料保存為 stock_id.csv\")"
   ]
  },
  {
   "cell_type": "markdown",
   "metadata": {},
   "source": [
    "參考 "
   ]
  },
  {
   "cell_type": "code",
   "execution_count": 5,
   "metadata": {},
   "outputs": [],
   "source": [
    "import yfinance as yf\n",
    "import pandas as pd\n",
    "import time\n",
    "\n",
    "# 讀取csv檔\n",
    "stock_list = pd.read_csv('stock_id.csv')\n",
    "stock_list.columns = ['stock_id', 'name']\n",
    "historical_data = pd.DataFrame()\n",
    "\n",
    "for i in stock_list.index:\n",
    "    # 抓取股票資料\n",
    "    stock_id = str(stock_list.loc[i, 'stock_id']) + '.TW'\n",
    "    data = yf.Ticker(stock_id)\n",
    "    df = data.history(period=\"max\")\n",
    "    \n",
    "    # 增加股票代號\n",
    "    df['stock_id'] = stock_list.loc[i, 'stock_id']\n",
    "    \n",
    "    # 合併\n",
    "    historical_data = pd.concat([historical_data, df])\n",
    "    time.sleep(0.8)\n",
    "\n",
    "historical_data.to_csv('historical_data.csv', index=False)"
   ]
  }
 ],
 "metadata": {
  "kernelspec": {
   "display_name": "base",
   "language": "python",
   "name": "python3"
  },
  "language_info": {
   "codemirror_mode": {
    "name": "ipython",
    "version": 3
   },
   "file_extension": ".py",
   "mimetype": "text/x-python",
   "name": "python",
   "nbconvert_exporter": "python",
   "pygments_lexer": "ipython3",
   "version": "3.12.2"
  }
 },
 "nbformat": 4,
 "nbformat_minor": 2
}
